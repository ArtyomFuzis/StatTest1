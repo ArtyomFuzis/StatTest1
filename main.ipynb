{
 "cells": [
  {
   "cell_type": "code",
   "execution_count": 1,
   "id": "initial_id",
   "metadata": {
    "ExecuteTime": {
     "end_time": "2025-04-25T19:04:59.268423Z",
     "start_time": "2025-04-25T19:04:59.263387Z"
    }
   },
   "outputs": [],
   "source": [
    "import pandas as pd\n",
    "import numpy as np\n",
    "import matplotlib.pyplot as plt"
   ]
  },
  {
   "cell_type": "markdown",
   "id": "ce5dd81c1ac75bf3",
   "metadata": {},
   "source": [
    "![](./imgs/task1.png)"
   ]
  },
  {
   "cell_type": "markdown",
   "id": "40de7c187a92b833",
   "metadata": {},
   "source": [
    "![](./imgs/task1_data.png)"
   ]
  },
  {
   "cell_type": "code",
   "execution_count": 2,
   "id": "9ca11e10e4701a93",
   "metadata": {
    "ExecuteTime": {
     "end_time": "2025-04-25T19:04:59.424881Z",
     "start_time": "2025-04-25T19:04:59.415186Z"
    }
   },
   "outputs": [
    {
     "data": {
      "text/html": [
       "<div>\n",
       "<style scoped>\n",
       "    .dataframe tbody tr th:only-of-type {\n",
       "        vertical-align: middle;\n",
       "    }\n",
       "\n",
       "    .dataframe tbody tr th {\n",
       "        vertical-align: top;\n",
       "    }\n",
       "\n",
       "    .dataframe thead th {\n",
       "        text-align: right;\n",
       "    }\n",
       "</style>\n",
       "<table border=\"1\" class=\"dataframe\">\n",
       "  <thead>\n",
       "    <tr style=\"text-align: right;\">\n",
       "      <th></th>\n",
       "      <th>Медианная зп</th>\n",
       "    </tr>\n",
       "    <tr>\n",
       "      <th>Номер</th>\n",
       "      <th></th>\n",
       "    </tr>\n",
       "  </thead>\n",
       "  <tbody>\n",
       "    <tr>\n",
       "      <th>1</th>\n",
       "      <td>47.7</td>\n",
       "    </tr>\n",
       "    <tr>\n",
       "      <th>2</th>\n",
       "      <td>49.5</td>\n",
       "    </tr>\n",
       "    <tr>\n",
       "      <th>3</th>\n",
       "      <td>81.3</td>\n",
       "    </tr>\n",
       "    <tr>\n",
       "      <th>4</th>\n",
       "      <td>49.2</td>\n",
       "    </tr>\n",
       "    <tr>\n",
       "      <th>5</th>\n",
       "      <td>67.7</td>\n",
       "    </tr>\n",
       "    <tr>\n",
       "      <th>6</th>\n",
       "      <td>56.6</td>\n",
       "    </tr>\n",
       "    <tr>\n",
       "      <th>7</th>\n",
       "      <td>54.7</td>\n",
       "    </tr>\n",
       "    <tr>\n",
       "      <th>8</th>\n",
       "      <td>78.0</td>\n",
       "    </tr>\n",
       "    <tr>\n",
       "      <th>9</th>\n",
       "      <td>70.3</td>\n",
       "    </tr>\n",
       "    <tr>\n",
       "      <th>10</th>\n",
       "      <td>83.0</td>\n",
       "    </tr>\n",
       "  </tbody>\n",
       "</table>\n",
       "</div>"
      ],
      "text/plain": [
       "       Медианная зп\n",
       "Номер              \n",
       "1              47.7\n",
       "2              49.5\n",
       "3              81.3\n",
       "4              49.2\n",
       "5              67.7\n",
       "6              56.6\n",
       "7              54.7\n",
       "8              78.0\n",
       "9              70.3\n",
       "10             83.0"
      ]
     },
     "execution_count": 2,
     "metadata": {},
     "output_type": "execute_result"
    }
   ],
   "source": [
    "df1 = pd.DataFrame({'Медианная зп': [47.7,49.5,81.3,49.2,67.7,56.6,54.7,78.0,70.3,83.0]}, index= range(1,11))\n",
    "df1.index.name = 'Номер'\n",
    "df1"
   ]
  },
  {
   "cell_type": "markdown",
   "id": "349601644205aac4",
   "metadata": {},
   "source": [
    "![](./imgs/task11.png)"
   ]
  },
  {
   "cell_type": "code",
   "execution_count": 3,
   "id": "a35a88f5ca5834c5",
   "metadata": {
    "ExecuteTime": {
     "end_time": "2025-04-25T19:04:59.527682Z",
     "start_time": "2025-04-25T19:04:59.517349Z"
    }
   },
   "outputs": [
    {
     "name": "stdout",
     "output_type": "stream",
     "text": [
      "Вариационный ряд:\n"
     ]
    },
    {
     "data": {
      "text/html": [
       "<div>\n",
       "<style scoped>\n",
       "    .dataframe tbody tr th:only-of-type {\n",
       "        vertical-align: middle;\n",
       "    }\n",
       "\n",
       "    .dataframe tbody tr th {\n",
       "        vertical-align: top;\n",
       "    }\n",
       "\n",
       "    .dataframe thead th {\n",
       "        text-align: right;\n",
       "    }\n",
       "</style>\n",
       "<table border=\"1\" class=\"dataframe\">\n",
       "  <thead>\n",
       "    <tr style=\"text-align: right;\">\n",
       "      <th></th>\n",
       "      <th>Медианная зп</th>\n",
       "    </tr>\n",
       "    <tr>\n",
       "      <th>Номер</th>\n",
       "      <th></th>\n",
       "    </tr>\n",
       "  </thead>\n",
       "  <tbody>\n",
       "    <tr>\n",
       "      <th>10</th>\n",
       "      <td>83.0</td>\n",
       "    </tr>\n",
       "    <tr>\n",
       "      <th>3</th>\n",
       "      <td>81.3</td>\n",
       "    </tr>\n",
       "    <tr>\n",
       "      <th>8</th>\n",
       "      <td>78.0</td>\n",
       "    </tr>\n",
       "    <tr>\n",
       "      <th>9</th>\n",
       "      <td>70.3</td>\n",
       "    </tr>\n",
       "    <tr>\n",
       "      <th>5</th>\n",
       "      <td>67.7</td>\n",
       "    </tr>\n",
       "    <tr>\n",
       "      <th>6</th>\n",
       "      <td>56.6</td>\n",
       "    </tr>\n",
       "    <tr>\n",
       "      <th>7</th>\n",
       "      <td>54.7</td>\n",
       "    </tr>\n",
       "    <tr>\n",
       "      <th>2</th>\n",
       "      <td>49.5</td>\n",
       "    </tr>\n",
       "    <tr>\n",
       "      <th>4</th>\n",
       "      <td>49.2</td>\n",
       "    </tr>\n",
       "    <tr>\n",
       "      <th>1</th>\n",
       "      <td>47.7</td>\n",
       "    </tr>\n",
       "  </tbody>\n",
       "</table>\n",
       "</div>"
      ],
      "text/plain": [
       "       Медианная зп\n",
       "Номер              \n",
       "10             83.0\n",
       "3              81.3\n",
       "8              78.0\n",
       "9              70.3\n",
       "5              67.7\n",
       "6              56.6\n",
       "7              54.7\n",
       "2              49.5\n",
       "4              49.2\n",
       "1              47.7"
      ]
     },
     "execution_count": 3,
     "metadata": {},
     "output_type": "execute_result"
    }
   ],
   "source": [
    "print(\"Вариационный ряд:\")\n",
    "df1.sort_values('Медианная зп', ascending = False)"
   ]
  },
  {
   "cell_type": "code",
   "execution_count": 4,
   "id": "b20aa444d2dbd262",
   "metadata": {
    "ExecuteTime": {
     "end_time": "2025-04-25T19:04:59.875669Z",
     "start_time": "2025-04-25T19:04:59.728421Z"
    }
   },
   "outputs": [
    {
     "name": "stdout",
     "output_type": "stream",
     "text": [
      "ЭФР:\n"
     ]
    },
    {
     "data": {
      "text/plain": [
       "<Axes: >"
      ]
     },
     "execution_count": 4,
     "metadata": {},
     "output_type": "execute_result"
    },
    {
     "data": {
      "image/png": "[encoded data removed]",
      "text/plain": [
       "<Figure size 640x480 with 1 Axes>"
      ]
     },
     "metadata": {},
     "output_type": "display_data"
    }
   ],
   "source": [
    "print(\"ЭФР:\")\n",
    "lst = df1['Медианная зп']\n",
    "fig, ax1 = plt.subplots()\n",
    "ax1.hist(lst, histtype='step', cumulative=True, bins=len(lst))\n",
    "ax1.set_yticks([i for i in range(1,len(lst)+1)])\n",
    "ax1.set_yticklabels([i/10 for i in range(1,len(lst)+1)])\n",
    "ax1"
   ]
  },
  {
   "cell_type": "code",
   "execution_count": 5,
   "id": "7d35217f02f32a50",
   "metadata": {
    "ExecuteTime": {
     "end_time": "2025-04-25T19:05:00.298351Z",
     "start_time": "2025-04-25T19:05:00.022092Z"
    }
   },
   "outputs": [
    {
     "data": {
      "text/plain": [
       "array([[<Axes: title={'center': 'Медианная зп'}>]], dtype=object)"
      ]
     },
     "execution_count": 5,
     "metadata": {},
     "output_type": "execute_result"
    },
    {
     "data": {
      "image/png": "[encoded data removed]",
      "text/plain": [
       "<Figure size 640x480 with 1 Axes>"
      ]
     },
     "metadata": {},
     "output_type": "display_data"
    }
   ],
   "source": [
    "df1.hist()"
   ]
  },
  {
   "cell_type": "code",
   "execution_count": 6,
   "id": "c3cec29b6ad0dfcc",
   "metadata": {
    "ExecuteTime": {
     "end_time": "2025-04-25T19:05:00.473860Z",
     "start_time": "2025-04-25T19:05:00.462824Z"
    }
   },
   "outputs": [
    {
     "data": {
      "text/html": [
       "<div>\n",
       "<style scoped>\n",
       "    .dataframe tbody tr th:only-of-type {\n",
       "        vertical-align: middle;\n",
       "    }\n",
       "\n",
       "    .dataframe tbody tr th {\n",
       "        vertical-align: top;\n",
       "    }\n",
       "\n",
       "    .dataframe thead th {\n",
       "        text-align: right;\n",
       "    }\n",
       "</style>\n",
       "<table border=\"1\" class=\"dataframe\">\n",
       "  <thead>\n",
       "    <tr style=\"text-align: right;\">\n",
       "      <th></th>\n",
       "      <th>Среднее выборочное</th>\n",
       "      <th>Дисперсия (несмещенная)</th>\n",
       "      <th>Дисперсия (смещенная)</th>\n",
       "    </tr>\n",
       "  </thead>\n",
       "  <tbody>\n",
       "    <tr>\n",
       "      <th>Медианная зп</th>\n",
       "      <td>63.8</td>\n",
       "      <td>193.944444</td>\n",
       "      <td>174.55</td>\n",
       "    </tr>\n",
       "  </tbody>\n",
       "</table>\n",
       "</div>"
      ],
      "text/plain": [
       "              Среднее выборочное  Дисперсия (несмещенная)  \\\n",
       "Медианная зп                63.8               193.944444   \n",
       "\n",
       "              Дисперсия (смещенная)  \n",
       "Медианная зп                 174.55  "
      ]
     },
     "execution_count": 6,
     "metadata": {},
     "output_type": "execute_result"
    }
   ],
   "source": [
    "pd.DataFrame({\"Среднее выборочное\": df1.mean(), \"Дисперсия (несмещенная)\": df1.var(), \"Дисперсия (смещенная)\": df1.var() * (len(df1)-1)/len(df1)})"
   ]
  },
  {
   "cell_type": "code",
   "execution_count": 7,
   "id": "c92b1b517b8ca5b6",
   "metadata": {
    "ExecuteTime": {
     "end_time": "2025-04-25T19:05:00.623840Z",
     "start_time": "2025-04-25T19:05:00.614196Z"
    }
   },
   "outputs": [
    {
     "data": {
      "text/html": [
       "<div>\n",
       "<style scoped>\n",
       "    .dataframe tbody tr th:only-of-type {\n",
       "        vertical-align: middle;\n",
       "    }\n",
       "\n",
       "    .dataframe tbody tr th {\n",
       "        vertical-align: top;\n",
       "    }\n",
       "\n",
       "    .dataframe thead th {\n",
       "        text-align: right;\n",
       "    }\n",
       "</style>\n",
       "<table border=\"1\" class=\"dataframe\">\n",
       "  <thead>\n",
       "    <tr style=\"text-align: right;\">\n",
       "      <th></th>\n",
       "      <th>Медиана</th>\n",
       "      <th>Квантиль 1/4 (первый квартиль)</th>\n",
       "      <th>Квантиль 3/4 (третий квартиль)</th>\n",
       "    </tr>\n",
       "  </thead>\n",
       "  <tbody>\n",
       "    <tr>\n",
       "      <th>Медианная зп</th>\n",
       "      <td>62.15</td>\n",
       "      <td>49.5</td>\n",
       "      <td>78.0</td>\n",
       "    </tr>\n",
       "  </tbody>\n",
       "</table>\n",
       "</div>"
      ],
      "text/plain": [
       "              Медиана  Квантиль 1/4 (первый квартиль)  \\\n",
       "Медианная зп    62.15                            49.5   \n",
       "\n",
       "              Квантиль 3/4 (третий квартиль)  \n",
       "Медианная зп                            78.0  "
      ]
     },
     "execution_count": 7,
     "metadata": {},
     "output_type": "execute_result"
    }
   ],
   "source": [
    "pd.DataFrame({\"Медиана\": df1.median(), \"Квантиль 1/4 (первый квартиль)\": df1.quantile(.25, interpolation=\"nearest\"), \"Квантиль 3/4 (третий квартиль)\": df1.quantile(.75, interpolation='nearest')})"
   ]
  },
  {
   "cell_type": "code",
   "execution_count": 8,
   "id": "6e772d57ef1a0437",
   "metadata": {
    "ExecuteTime": {
     "end_time": "2025-04-25T19:05:00.890549Z",
     "start_time": "2025-04-25T19:05:00.880058Z"
    }
   },
   "outputs": [
    {
     "data": {
      "text/html": [
       "<div>\n",
       "<style scoped>\n",
       "    .dataframe tbody tr th:only-of-type {\n",
       "        vertical-align: middle;\n",
       "    }\n",
       "\n",
       "    .dataframe tbody tr th {\n",
       "        vertical-align: top;\n",
       "    }\n",
       "\n",
       "    .dataframe thead th {\n",
       "        text-align: right;\n",
       "    }\n",
       "</style>\n",
       "<table border=\"1\" class=\"dataframe\">\n",
       "  <thead>\n",
       "    <tr style=\"text-align: right;\">\n",
       "      <th></th>\n",
       "      <th>Среднее значение логарифма</th>\n",
       "      <th>Дисперсия логарифма (смещенная)</th>\n",
       "    </tr>\n",
       "  </thead>\n",
       "  <tbody>\n",
       "    <tr>\n",
       "      <th>Медианная зп</th>\n",
       "      <td>4.134222</td>\n",
       "      <td>0.043118</td>\n",
       "    </tr>\n",
       "  </tbody>\n",
       "</table>\n",
       "</div>"
      ],
      "text/plain": [
       "              Среднее значение логарифма  Дисперсия логарифма (смещенная)\n",
       "Медианная зп                    4.134222                         0.043118"
      ]
     },
     "execution_count": 8,
     "metadata": {},
     "output_type": "execute_result"
    }
   ],
   "source": [
    "df1log = df1.apply(np.log)\n",
    "pd.DataFrame({\"Среднее значение логарифма\": df1log.mean(), \"Дисперсия логарифма (смещенная)\": df1log.var() * (len(df1)-1)/len(df1)})"
   ]
  },
  {
   "cell_type": "markdown",
   "id": "540116988e3ce7d6",
   "metadata": {},
   "source": [
    "![](./imgs/task12.png)"
   ]
  },
  {
   "cell_type": "markdown",
   "id": "15e5369098577733",
   "metadata": {},
   "source": [
    "Напишем уравнения метода моментов, использую формулы матожидания и дисперсии логнормального распределения:\n",
    "\n",
    "$$\\begin{cases}\n",
    "    E[X]=e^{\\hat{a}+\\frac{\\hat{\\sigma}^2}{2}}=\\overline{x}\\\\\n",
    "    D[X]=e^{2\\hat{a}+\\hat{\\sigma}^2}\\left(e^{\\hat{\\sigma}^2}-1\\right)=s^2\n",
    "\\end{cases}$$"
   ]
  },
  {
   "cell_type": "markdown",
   "id": "5caadc0f6ee21641",
   "metadata": {},
   "source": [
    "Из первого уравнения:\n",
    "$\\hat{a}+\\frac{\\hat{\\sigma}^2}{2}=\\ln{\\overline{x}}\\Rightarrow \\hat{a}=\\ln{\\overline{x}}-\\frac{\\hat{\\sigma}^2}{2}$ \\\n",
    "Откуда выразим: $2\\hat{a}+\\hat{\\sigma}^2=2\\left(\\ln{\\overline{x}}-\\frac{\\hat{\\sigma}^2}{2}\\right)+\\hat{\\sigma}^2=2\\ln{\\overline{x}}$"
   ]
  },
  {
   "cell_type": "markdown",
   "id": "38a2979d9a631272",
   "metadata": {},
   "source": [
    "Подставим полученное выражение во второе уравнение: \\\n",
    "$e^{2\\ln{\\hat{x}}}\\left(e^{\\hat{\\sigma}^2}-1\\right) = s^2 \\Rightarrow \\overline{x}^2\\left(e^{\\hat{\\sigma}^2}-1\\right)=s^2 \\Rightarrow\n",
    "e^{\\hat{\\sigma}^2}-1=\\frac{s^2}{\\overline{x}^2}\\Rightarrow \\hat{\\sigma}^2=\\ln{\\left(1+\\frac{s^2}{\\overline{x}^2}\\right)}$"
   ]
  },
  {
   "cell_type": "markdown",
   "id": "f18d25870dc8de02",
   "metadata": {},
   "source": [
    "Теперь подставим в ранее полученное выражение и получим оценку для a: \\\n",
    "$\\hat{a}=\\ln{\\overline{x}}-\\frac{1}{2}\\ln{\\left(1+\\frac{s^2}{\\overline{x}^2}\\right)}$"
   ]
  },
  {
   "cell_type": "markdown",
   "id": "f4e8b3bf0a5c501b",
   "metadata": {},
   "source": [
    "Теперь посчитаем значения оценок для нашего случая: \\\n",
    "$\\hat{\\sigma}^2\\approx\\ln{\\left(1+\\frac{193.944444}{4070.44}\\right)}\\approx0,0465$ \\\n",
    "$\\hat{a}\\approx\\ln{63.8}-\\frac{1}{2}\\cdot0,0465\\approx4,133$ \\\n",
    "Полученные оценки достаточно близки к вычисленным выше среднему выборочному и дисперсии логарифмированной выборки"
   ]
  },
  {
   "cell_type": "markdown",
   "id": "475bc026d5de264f",
   "metadata": {},
   "source": [
    "Найдем смещение оценок: $E[\\hat{\\sigma}^2]=E\\left[\\ln{\\left(1+\\frac{s^2}{\\overline{x}^2}\\right)}\\right]$\n",
    "Разложим логарифм по Тейлору: \\\n",
    "$\\ln{\\left(1+\\frac{s^2}{\\overline{x}^2}\\right)}=\\frac{s^2}{\\overline{x}^2}-\\frac{s^4}{2\\overline{x}^4}+o\\left(\\frac{s^4}{\\overline{x}^4}\\right)$ \\\n",
    " По закону больших чисел $s^2$ будет сколь угодно малой при увеличении $n$, поэтому асимптотически: \\\n",
    " $E[\\hat{\\sigma}^2]=E\\left[\\frac{s^2}{\\overline{x}^2}\\right]=E\\left[\\frac{e^{2a+\\sigma^2}\\left(e^{\\sigma^2}-1\\right)}{\\left(e^{a+\\frac{\\sigma^2}{2}}\\right)^2}\\right]=E\\left[e^{\\sigma^2}-1\\right]$ \\\n",
    "Что по Тейлору равняется: $E[\\sigma^2]=\\sigma^2$ \\\n",
    "То есть мы получили что оценка параметра $\\hat{\\sigma}^2$ является асимптотически несмещенной\n",
    "\n"
   ]
  },
  {
   "cell_type": "markdown",
   "id": "4dd84a681ff7b04f",
   "metadata": {},
   "source": [
    "Для $\\hat{a}$: \\\n",
    "$E[\\hat{a}]=E\\left[\\ln{\\overline{x}}-\\frac{1}{2}\\hat{\\sigma}^2\\right]$\n",
    "Использую ЗБЧ и асимптотический переход приходим к: \\\n",
    "$E[\\hat{a}]=\\ln{E[\\overline{x}]}-\\frac{1}{2}E[\\hat{\\sigma}^2]=\\ln{\\left(e^{a+\\frac{\\sigma^2}{2}}\\right)}-\\frac{\\sigma^2}{2}=a$ \\\n",
    "То есть оценка $a$ тоже является асимптотически несмещенной "
   ]
  },
  {
   "cell_type": "markdown",
   "id": "8113a39aa1d99024",
   "metadata": {},
   "source": [
    "Кроме того найденные оценки являются состоятельными и асимптотически нормальными (что можно доказать через ЗБЧ, ЦПТ и свойства метода моментов)"
   ]
  },
  {
   "cell_type": "markdown",
   "id": "ecf24df169250fed",
   "metadata": {},
   "source": [
    "![](./imgs/task13.png)"
   ]
  },
  {
   "cell_type": "markdown",
   "id": "90946f4a73c85a51",
   "metadata": {},
   "source": [
    "Да, найденная оценка регулярна, найдем информацию Фишера "
   ]
  },
  {
   "cell_type": "markdown",
   "id": "67178c6b6b6f09c7",
   "metadata": {},
   "source": [
    "Выпишем плотность логнормального распределения:\n",
    "$$f(x, a, \\sigma^2)=\\frac{1}{x\\sigma\\sqrt{2\\pi}}\\cdot e^{-\\frac{(\\ln{x}-a)^2}{2\\sigma^2}}$$\n",
    "Её логарифм: \n",
    "$$\\ln{f(x, a, \\sigma^2)}=-\\ln{x}-\\ln{\\sigma}-\\frac{1}{2}\\ln{2\\pi}-\\frac{(\\ln{x}-a)^2}{2\\sigma^2}$$"
   ]
  },
  {
   "cell_type": "markdown",
   "id": "e7207713a752e6f5",
   "metadata": {},
   "source": [
    "Найдем первую и вторую производную: \n",
    "$$\\frac{\\partial f}{\\partial a}=\\frac{\\ln{x}-a}{\\sigma^2}$$\n",
    "$$\\frac{\\partial^2 f}{\\partial a^2}=-\\frac{1}{\\sigma^2}$$"
   ]
  },
  {
   "cell_type": "markdown",
   "id": "f52b8ec2dab1a9ab",
   "metadata": {},
   "source": [
    "Теперь вычислим информацию Фишера:\n",
    "$$I(a)=-E\\left[\\frac{\\partial^2 f}{\\partial a^2}\\right]=-E\\left[-\\frac{1}{\\sigma^2}\\right]=\\frac{1}{\\sigma^2}$$"
   ]
  },
  {
   "cell_type": "markdown",
   "id": "4ccd3ee6568c4f67",
   "metadata": {},
   "source": [
    "![](./imgs/task14.png)"
   ]
  },
  {
   "cell_type": "markdown",
   "id": "eb253b462eea0e9d",
   "metadata": {},
   "source": [
    "Нет, оценка не является R-эффективной"
   ]
  },
  {
   "cell_type": "markdown",
   "id": "44723ade09dcd801",
   "metadata": {},
   "source": [
    "$MSE(\\hat{a})=E\\left[(\\hat{a}-a)^2\\right]=D[\\hat{a}]+(B[\\hat{a}])^2$\n",
    "Где $D[\\hat{a}]$ асимптотически можно найти по формуле: $D[\\hat{a}]\\approx\\frac{\\sigma^2}{n}$ \\\n",
    "$B$ - смещение оценки, оно асимптотически сильно меньше $D[\\hat{a}]$, поэтому пренебрежем им. \\\n",
    "Итого: $MSE(\\hat{a})\\approx \\frac{\\sigma^2}{n}$"
   ]
  },
  {
   "cell_type": "markdown",
   "id": "5ab71d5a8ee15c65",
   "metadata": {},
   "source": [
    "![](./imgs/task15.png)\n"
   ]
  },
  {
   "cell_type": "markdown",
   "id": "314df4a224327c5f",
   "metadata": {},
   "source": [
    "Нет, она не является достаточной, возможно по методу наибольшего правдоподобия вышла бы достаточная оценка"
   ]
  },
  {
   "cell_type": "markdown",
   "id": "3cf93eb82e745199",
   "metadata": {},
   "source": [
    "![](./imgs/task16.png)"
   ]
  },
  {
   "cell_type": "markdown",
   "id": "bc6f7702515d0408",
   "metadata": {},
   "source": [
    "Воспользуемся формулой доверительного интервала для оценки нормальной распределенной величины при неизвестной дисперсии:\n",
    "$$a\\in\\left[\\overline{\\ln{x}}-t_{\\frac{1+\\gamma}{2}, \\space n-1} \\cdot \\frac{s}{\\sqrt{n}}, \\space \\overline{\\ln{x}}+t_{\\frac{1+\\gamma}{2}, \\space n-1} \\cdot \\frac{s}{\\sqrt{n}}\\right]$$ \n",
    "Где $s=\\frac{\\sum{\\left(\\ln{x}-\\overline{\\ln{x}}\\right)^2}}{n-1}$"
   ]
  },
  {
   "cell_type": "markdown",
   "id": "73389aad77d7d8c3",
   "metadata": {},
   "source": [
    "Найдем значения распределения Стьюдента: \n",
    "$$t_{\\frac{1-\\gamma}{2}, \\space n-1}=t_{0.975, 9}\\approx2.685$$\n",
    "Тогда используя значения рассчитанные в пункте 1: \\\n",
    "$\\overline{\\ln{x}}=4.134222, s=0.043118$ \\\n",
    "Откуда:\n",
    "$$a\\in\\left[4.134222-2.685 \\cdot \\frac{0.043118}{3.1623}, \\space 4.134222+2.685 \\cdot \\frac{0.043118}{3.1623}\\right]$$ \n",
    "$$a\\in\\left[4,0976, \\space 4,1708\\right]$$ "
   ]
  },
  {
   "cell_type": "markdown",
   "id": "d9966378",
   "metadata": {},
   "source": [
    "![](./imgs/task2.png)"
   ]
  },
  {
   "cell_type": "markdown",
   "id": "723d8def",
   "metadata": {},
   "source": [
    "![](./imgs/task21.png)"
   ]
  },
  {
   "cell_type": "markdown",
   "id": "757e82f1",
   "metadata": {},
   "source": [
    "Найдем мат. ожидание модуля распределения: $$E[|x|]=\\int^\\infty_{-\\infty}{\\frac{|x|\\beta}{2}e^{-\\beta |x|}dx}=\\int^\\infty_{0}{\\frac{|x|\\beta}{2}e^{-\\beta x}dx} + \\int^0_{-\\infty}{\\frac{|x|\\beta}{2}e^{\\beta x}dx} = \\left(-\\frac{e^{-\\beta x} (\\beta x + 1)}{2 \\beta} \\right)^\\infty_0 + \\left(-\\frac{e^{\\beta x} (\\beta x - 1)}{2 \\beta} \\right)^0_{-\\infty}=$$"
   ]
  },
  {
   "cell_type": "markdown",
   "id": "1cba2777",
   "metadata": {},
   "source": [
    "$$=0-\\left(-\\frac{1\\cdot1}{2\\beta}\\right)-\\frac{1\\cdot(-1)}{2\\beta}-0=\\frac{1}{\\beta}$$ \n",
    "А так как статистика $\\overline{|x|}\\longrightarrow E[|x|]=\\frac{1}{\\beta}=\\theta$, то она несмещена "
   ]
  },
  {
   "cell_type": "markdown",
   "id": "3991c2cd",
   "metadata": {},
   "source": [
    "![](./imgs/task22.png)"
   ]
  },
  {
   "cell_type": "markdown",
   "id": "65388f4c",
   "metadata": {},
   "source": [
    "По теореме УЗБЧ $\\hat{\\theta_n}\\rightarrow \\theta $ (почти наверное) $\\Rightarrow$ оценка сильно состоятельна"
   ]
  },
  {
   "cell_type": "markdown",
   "id": "90ea2e58",
   "metadata": {},
   "source": [
    "![](./imgs/task23.png)"
   ]
  },
  {
   "cell_type": "markdown",
   "id": "d9653347",
   "metadata": {},
   "source": [
    "Найдем дисперсию распределения:\n",
    "$$E[|x|^2]=\\int^\\infty_{-\\infty}{\\frac{x^2\\beta}{2}e^{-\\beta |x|}dx}=\\int^\\infty_{0}{\\frac{x^2\\beta}{2}e^{-\\beta x}dx} + \\int^0_{-\\infty}{\\frac{x^2\\beta}{2}e^{\\beta x}dx} = \\left(-\\frac{e^{-\\beta x} (\\beta^2 x^2 + 2\\beta x+2)}{2 \\beta^2} \\right)^\\infty_0 + \\left(\\frac{e^{\\beta x} (\\beta^2 x^2 - 2\\beta x+2)}{2 \\beta^2} \\right)^0_{-\\infty}=\\frac{2}{\\beta^2}$$\n",
    "$$D[|x|]=E[|x|^2]-\\left(E[|x|]\\right)^2=\\frac{2}{\\beta^2}-\\frac{1}{\\beta^2}=\\frac{1}{\\beta^2}$$ "
   ]
  },
  {
   "cell_type": "markdown",
   "id": "9658ebbc",
   "metadata": {},
   "source": [
    "По ЦПТ $\\overline{|x|}\\sim\\mathbb{N}\\left(\\frac{1}{\\beta}, \\frac{1}{\\beta^2 n}\\right)\\Rightarrow D[|\\overline{x}|]=\\frac{1}{\\beta^2 n}$, распределение асимптотически нормальное"
   ]
  },
  {
   "cell_type": "markdown",
   "id": "ebf71430",
   "metadata": {},
   "source": [
    "![](./imgs/task24.png)"
   ]
  },
  {
   "cell_type": "markdown",
   "id": "0a1c70e4",
   "metadata": {},
   "source": [
    "Найдем оценку максимального правдоподобия: $$L(\\beta,x_1,x_2,...)=\\prod_i^n{\\frac{\\beta}{2}e^{-\\beta|x|}}=\\left(\\frac{\\beta^n}{2^n}\\right)e^{-\\beta \\sum^n_i{|x_i|}}$$\n",
    "$$\\ln{L(\\beta,x_1,x_2,...)}=n\\ln{\\frac{\\beta}{2}}-\\beta\\sum_i^n{|x_i|}$$\n",
    "$$\\frac{\\partial \\ln{L}}{\\partial \\beta} = \\frac{n\\cdot 2}{2\\cdot \\beta}-\\sum_i^n{|x_i|}=0\\Rightarrow \\overline{|x|} = \\frac{1}{\\beta}$$"
   ]
  },
  {
   "cell_type": "markdown",
   "id": "08775ae6",
   "metadata": {},
   "source": [
    "По теореме Неймана-Фишера есть факторизация функции наибольшего правдоподобия на  $\\overline{|x|}$, значит оценка является достаточной для параметра $\\frac{1}{\\beta}$ "
   ]
  },
  {
   "cell_type": "markdown",
   "id": "56464cf1",
   "metadata": {},
   "source": [
    "![](./imgs/task25.png)"
   ]
  },
  {
   "cell_type": "markdown",
   "id": "fa08988d",
   "metadata": {},
   "source": [
    "$$\\theta=\\frac{1}{\\beta}$$\n",
    "$$p(x, \\theta) = \\frac{1}{2\\theta}e^{-|x|/\\theta}$$\n",
    "$$\\ln{p(x, \\theta)}=-\\ln{2\\theta}-\\frac{|x|}{\\theta}$$\n",
    "$$\\frac{\\partial \\ln{p(x, \\theta)}}{\\partial \\theta}=-\\frac{1}{\\theta} + \\frac{|x|}{\\theta^2}$$\n",
    "$$\\left(-\\frac{1}{\\theta} + \\frac{|x|}{\\theta^2}\\right)^2=\\frac{1}{\\theta^2}-\\frac{2|x|}{\\theta^3}+\\frac{|x|^2}{\\theta^4}$$\n",
    "$$E\\left[\\left(-\\frac{1}{\\theta} + \\frac{|x|}{\\theta^2}\\right)^2\\right]=\\frac{1}{\\theta^2}-\\frac{2E[|x|]}{\\theta^3}+\\frac{E[|x|^2]}{\\theta^4}$$\n",
    "$$E\\left[\\left(-\\frac{1}{\\theta} + \\frac{|x|}{\\theta^2}\\right)^2\\right]=\\frac{1}{\\theta^2}-\\frac{2\\theta}{\\theta^3}+\\frac{2\\theta^2}{\\theta^4}=\\frac{1}{\\theta^2}=I(\\theta)$$"
   ]
  },
  {
   "cell_type": "markdown",
   "id": "0d966b35",
   "metadata": {},
   "source": [
    "Найдем нижнюю границу Крамера-Рао: $\\frac{1}{nI(\\theta)}=\\frac{\\theta^2}{n}=\\frac{1}{\\beta^2 n}=D[|\\overline{x}|]\\Rightarrow$ оценка R-эффективна"
   ]
  },
  {
   "cell_type": "markdown",
   "id": "59206f85",
   "metadata": {},
   "source": [
    "Ответ: оценка R - эффективна, информация Фишера: $I(\\theta)=\\frac{1}{\\theta^2}$"
   ]
  },
  {
   "cell_type": "markdown",
   "id": "1210254a",
   "metadata": {},
   "source": [
    "![](./imgs/task26.png)"
   ]
  },
  {
   "cell_type": "markdown",
   "id": "e2d16863",
   "metadata": {},
   "source": [
    "Ответ: Да, является, как выведено выше (пункт 4)"
   ]
  },
  {
   "cell_type": "markdown",
   "id": "d7047bc9",
   "metadata": {},
   "source": [
    "![](./imgs/task27.png)"
   ]
  },
  {
   "cell_type": "markdown",
   "id": "86d7c0c5",
   "metadata": {},
   "source": [
    "$$\\overline{|x|}-z_{\\frac{1-\\alpha}{2}}\\frac{\\sigma}{\\sqrt{n}}\\le\\mu\\le\\overline{|x|}+z_{\\frac{1-\\alpha}{2}}\\frac{\\sigma}{\\sqrt{n}}$$\n",
    "$$\\overline{|x|}-z_{\\frac{1-\\alpha}{2}}\\frac{1}{\\beta n}\\le\\mu\\le\\overline{|x|}+z_{\\frac{1-\\alpha}{2}}\\frac{1}{\\beta n}$$\n",
    "$$\\left[\\overline{|x|}-1.96\\frac{1}{\\beta n}, \\overline{|x|}+1.96\\frac{1}{\\beta n}\\right]$$"
   ]
  }
 ],
 "metadata": {
  "kernelspec": {
   "display_name": ".venv",
   "language": "python",
   "name": "python3"
  },
  "language_info": {
   "codemirror_mode": {
    "name": "ipython",
    "version": 3
   },
   "file_extension": ".py",
   "mimetype": "text/x-python",
   "name": "python",
   "nbconvert_exporter": "python",
   "pygments_lexer": "ipython3",
   "version": "3.12.6"
  }
 },
 "nbformat": 4,
 "nbformat_minor": 5
}
